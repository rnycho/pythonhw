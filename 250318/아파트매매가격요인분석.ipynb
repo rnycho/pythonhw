{
 "cells": [
  {
   "cell_type": "code",
   "execution_count": 1,
   "id": "e9928b7a-af71-412d-ba92-6c4655f5bf58",
   "metadata": {},
   "outputs": [
    {
     "name": "stdout",
     "output_type": "stream",
     "text": [
      "    price  size  age  kindergarten  elementarySchool  busStop  hospital  mart\n",
      "0  265356    91   23             3                 3        0         6     1\n",
      "1  324233   118    5             3                 3        6         2     0\n",
      "2  225492    71   17             2                 0        1         4     1\n",
      "3  278436    92   17             4                 4        7         4     2\n",
      "4  339065   130   11             2                 4        5         2     0\n",
      "                            OLS Regression Results                            \n",
      "==============================================================================\n",
      "Dep. Variable:                  price   R-squared:                       0.974\n",
      "Model:                            OLS   Adj. R-squared:                  0.970\n",
      "Method:                 Least Squares   F-statistic:                     226.2\n",
      "Date:                Tue, 18 Mar 2025   Prob (F-statistic):           3.17e-31\n",
      "Time:                        15:57:38   Log-Likelihood:                -517.50\n",
      "No. Observations:                  50   AIC:                             1051.\n",
      "Df Residuals:                      42   BIC:                             1066.\n",
      "Df Model:                           7                                         \n",
      "Covariance Type:            nonrobust                                         \n",
      "====================================================================================\n",
      "                       coef    std err          t      P>|t|      [0.025      0.975]\n",
      "------------------------------------------------------------------------------------\n",
      "Intercept         1.351e+05   6200.095     21.786      0.000    1.23e+05    1.48e+05\n",
      "size              1508.0708     45.775     32.945      0.000    1415.694    1600.448\n",
      "age              -1070.0635    159.316     -6.717      0.000   -1391.576    -748.550\n",
      "kindergarten       971.7357    971.527      1.000      0.323    -988.885    2932.356\n",
      "elementarySchool   374.6313    804.197      0.466      0.644   -1248.304    1997.567\n",
      "busStop            219.8976    404.447      0.544      0.590    -596.311    1036.106\n",
      "hospital           907.8049    497.246      1.826      0.075     -95.678    1911.288\n",
      "mart               750.9955    871.226      0.862      0.394   -1007.210    2509.201\n",
      "==============================================================================\n",
      "Omnibus:                        7.754   Durbin-Watson:                   2.015\n",
      "Prob(Omnibus):                  0.021   Jarque-Bera (JB):                2.569\n",
      "Skew:                           0.104   Prob(JB):                        0.277\n",
      "Kurtosis:                       1.909   Cond. No.                         577.\n",
      "==============================================================================\n",
      "\n",
      "Notes:\n",
      "[1] Standard Errors assume that the covariance matrix of the errors is correctly specified.\n"
     ]
    }
   ],
   "source": [
    "import pandas as pd\n",
    "import numpy as np\n",
    "from statsmodels.formula.api import ols\n",
    "from sklearn.linear_model import LinearRegression\n",
    "\n",
    "# 데이터 생성\n",
    "size = np.random.randint(59, 152, size=50)  # 크기\n",
    "age = np.random.randint(1, 30, size=50)     # 건축 연수\n",
    "kindergarten = np.random.randint(0, 5, size=50)  \n",
    "elementarySchool = np.random.randint(0, 5, size=50) \n",
    "busStop = np.random.randint(0, 10, size=50)\n",
    "hospital = np.random.randint(0, 10, size=50)  \n",
    "mart = np.random.randint(0, 5, size=50)  \n",
    "\n",
    "# 가격 생성\n",
    "price = 100000 + (size * 1500) - (age * 1000) + (kindergarten * 550) + (elementarySchool * 473) + (busStop * 456) + (hospital * 999) + (mart * 431) + np.random.randint(20000, 50000, size=50)\n",
    "\n",
    "# DataFrame 생성\n",
    "df = pd.DataFrame({\n",
    "    'price': price,\n",
    "    'size': size,\n",
    "    'age': age,\n",
    "    'kindergarten': kindergarten,\n",
    "    'elementarySchool': elementarySchool,\n",
    "    'busStop': busStop,\n",
    "    'hospital': hospital,\n",
    "    'mart': mart\n",
    "})\n",
    "\n",
    "# 데이터 출력\n",
    "print(df.head())\n",
    "\n",
    "# 선형 회귀 분석\n",
    "fit = ols('price ~ size + age + kindergarten + elementarySchool + busStop + hospital + mart', data=df).fit()\n",
    "print(fit.summary())\n"
   ]
  },
  {
   "cell_type": "code",
   "execution_count": null,
   "id": "ee407aa8-31b9-4eaf-b467-03dc92e0a234",
   "metadata": {},
   "outputs": [],
   "source": []
  }
 ],
 "metadata": {
  "kernelspec": {
   "display_name": "Python 3 (ipykernel)",
   "language": "python",
   "name": "python3"
  },
  "language_info": {
   "codemirror_mode": {
    "name": "ipython",
    "version": 3
   },
   "file_extension": ".py",
   "mimetype": "text/x-python",
   "name": "python",
   "nbconvert_exporter": "python",
   "pygments_lexer": "ipython3",
   "version": "3.12.7"
  }
 },
 "nbformat": 4,
 "nbformat_minor": 5
}
