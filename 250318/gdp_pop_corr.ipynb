{
 "cells": [
  {
   "cell_type": "code",
   "execution_count": 1,
   "id": "7654524f-83bd-4dbe-8490-51a25a0ba8a2",
   "metadata": {},
   "outputs": [
    {
     "name": "stdout",
     "output_type": "stream",
     "text": [
      "          국가  GDP 성장률      인구수\n",
      "0         미국     0.90   334.00\n",
      "1         일본     0.60   125.00\n",
      "2         영국     0.40    67.53\n",
      "3        프랑스     0.50    67.65\n",
      "4         독일     1.10    83.16\n",
      "5       이탈리아     1.70    59.24\n",
      "6        캐나다     3.90    38.44\n",
      "7       대한민국     1.40    51.74\n",
      "8        러시아    -3.70   146.00\n",
      "9         중국     2.90  1412.00\n",
      "10        인도     6.30  1380.00\n",
      "11     인도네시아     5.01   273.00\n",
      "12     아르헨티나     5.90    45.81\n",
      "13       브라질     3.60   213.00\n",
      "14       멕시코     3.50   126.00\n",
      "15        호주     5.90    25.77\n",
      "16  남아프리카공화국     4.10    60.14\n",
      "17   사우디아라비아     5.40    34.11\n",
      "18      튀르키예     3.90    84.68\n",
      "19  유럽연합(EU)     1.90   343.00\n"
     ]
    }
   ],
   "source": [
    "import pandas as pd\n",
    "data = {'국가': ['미국', '일본', '영국', '프랑스', '독일', '이탈리아', '캐나다',\n",
    "'대한민국', '러시아', '중국', '인도', '인도네시아', '아르헨티나',\n",
    "'브라질', '멕시코', '호주', '남아프리카공화국', '사우디아라비아',\n",
    "'튀르키예', '유럽연합(EU)'],\n",
    "'GDP 성장률': [0.9, 0.6, 0.4, 0.5, 1.1, 1.7, 3.9, 1.4, -3.7, 2.9, 6.3,\n",
    "5.01, 5.9, 3.6, 3.5, 5.9, 4.1, 5.4, 3.9, 1.9],\n",
    "'인구수': [334, 125, 67.53, 67.65, 83.16, 59.24, 38.44, 51.74, 146, 1412,\n",
    "1380, 273, 45.81, 213, 126, 25.77, 60.14, 34.11, 84.68, 343]}\n",
    "df = pd.DataFrame(data)\n",
    "print(df)"
   ]
  },
  {
   "cell_type": "code",
   "execution_count": 2,
   "id": "3586268e-f750-4080-ae39-c0837fdd5adb",
   "metadata": {},
   "outputs": [
    {
     "name": "stdout",
     "output_type": "stream",
     "text": [
      "Pearson Correlation Analysis\n",
      "          GDP 성장률       인구수\n",
      "GDP 성장률  1.000000  0.198924\n",
      "인구수      0.198924  1.000000\n",
      "\n",
      "Spearman Correlation Analysis\n",
      "          GDP 성장률       인구수\n",
      "GDP 성장률  1.000000 -0.196388\n",
      "인구수     -0.196388  1.000000\n",
      "\n",
      "Kendall Correlation Analysis\n",
      "          GDP 성장률       인구수\n",
      "GDP 성장률  1.000000 -0.137568\n",
      "인구수     -0.137568  1.000000\n"
     ]
    }
   ],
   "source": [
    "df.drop(columns='국가', inplace=True)\n",
    "pearsonCoef = df.corr(method='pearson')\n",
    "print(\"Pearson Correlation Analysis\")\n",
    "print(pearsonCoef)\n",
    "spearmanCoef = df.corr(method='spearman')\n",
    "print(\"\\nSpearman Correlation Analysis\")\n",
    "print(spearmanCoef)\n",
    "kendallCoef = df.corr(method='kendall')\n",
    "print(\"\\nKendall Correlation Analysis\")\n",
    "print(kendallCoef)"
   ]
  },
  {
   "cell_type": "code",
   "execution_count": null,
   "id": "da0df769-d773-4155-8ae1-454573537cbe",
   "metadata": {},
   "outputs": [],
   "source": []
  }
 ],
 "metadata": {
  "kernelspec": {
   "display_name": "Python 3 (ipykernel)",
   "language": "python",
   "name": "python3"
  },
  "language_info": {
   "codemirror_mode": {
    "name": "ipython",
    "version": 3
   },
   "file_extension": ".py",
   "mimetype": "text/x-python",
   "name": "python",
   "nbconvert_exporter": "python",
   "pygments_lexer": "ipython3",
   "version": "3.12.7"
  }
 },
 "nbformat": 4,
 "nbformat_minor": 5
}
