{
 "cells": [
  {
   "cell_type": "code",
   "execution_count": 1,
   "id": "793b4c43-6026-402e-a0f3-c780f4f01b5a",
   "metadata": {},
   "outputs": [
    {
     "name": "stdout",
     "output_type": "stream",
     "text": [
      "     survived  pclass     sex   age  sibsp  parch     fare embarked   class  \\\n",
      "0           0       3    male  22.0      1      0   7.2500        S   Third   \n",
      "1           1       1  female  38.0      1      0  71.2833        C   First   \n",
      "2           1       3  female  26.0      0      0   7.9250        S   Third   \n",
      "3           1       1  female  35.0      1      0  53.1000        S   First   \n",
      "4           0       3    male  35.0      0      0   8.0500        S   Third   \n",
      "..        ...     ...     ...   ...    ...    ...      ...      ...     ...   \n",
      "886         0       2    male  27.0      0      0  13.0000        S  Second   \n",
      "887         1       1  female  19.0      0      0  30.0000        S   First   \n",
      "888         0       3  female   NaN      1      2  23.4500        S   Third   \n",
      "889         1       1    male  26.0      0      0  30.0000        C   First   \n",
      "890         0       3    male  32.0      0      0   7.7500        Q   Third   \n",
      "\n",
      "       who  adult_male deck  embark_town alive  alone  \n",
      "0      man        True  NaN  Southampton    no  False  \n",
      "1    woman       False    C    Cherbourg   yes  False  \n",
      "2    woman       False  NaN  Southampton   yes   True  \n",
      "3    woman       False    C  Southampton   yes  False  \n",
      "4      man        True  NaN  Southampton    no   True  \n",
      "..     ...         ...  ...          ...   ...    ...  \n",
      "886    man        True  NaN  Southampton    no   True  \n",
      "887  woman       False    B  Southampton   yes   True  \n",
      "888  woman       False  NaN  Southampton    no  False  \n",
      "889    man        True    C    Cherbourg   yes   True  \n",
      "890    man        True  NaN   Queenstown    no   True  \n",
      "\n",
      "[891 rows x 15 columns]\n"
     ]
    }
   ],
   "source": [
    "# 타이타닉 생존 분석\n",
    "import seaborn as sns\n",
    "titanic = sns.load_dataset('titanic')\n",
    "print(titanic)"
   ]
  },
  {
   "cell_type": "code",
   "execution_count": 2,
   "id": "8629c142-5910-43ce-a137-e50236eb06ab",
   "metadata": {},
   "outputs": [
    {
     "name": "stdout",
     "output_type": "stream",
     "text": [
      "Optimization terminated successfully.\n",
      "         Current function value: 0.445244\n",
      "         Iterations 6\n",
      "                           Logit Regression Results                           \n",
      "==============================================================================\n",
      "Dep. Variable:               survived   No. Observations:                  714\n",
      "Model:                          Logit   Df Residuals:                      707\n",
      "Method:                           MLE   Df Model:                            6\n",
      "Date:                Thu, 20 Mar 2025   Pseudo R-squ.:                  0.3408\n",
      "Time:                        21:50:54   Log-Likelihood:                -317.90\n",
      "converged:                       True   LL-Null:                       -482.26\n",
      "Covariance Type:            nonrobust   LLR p-value:                 5.727e-68\n",
      "==============================================================================\n",
      "                 coef    std err          z      P>|z|      [0.025      0.975]\n",
      "------------------------------------------------------------------------------\n",
      "Intercept      5.3890      0.604      8.926      0.000       4.206       6.572\n",
      "pclass        -1.2422      0.163     -7.612      0.000      -1.562      -0.922\n",
      "sex           -2.6348      0.220    -11.998      0.000      -3.065      -2.204\n",
      "age           -0.0440      0.008     -5.374      0.000      -0.060      -0.028\n",
      "fare           0.0022      0.002      0.866      0.386      -0.003       0.007\n",
      "parch         -0.0619      0.123     -0.504      0.614      -0.303       0.179\n",
      "sibsp         -0.3758      0.127     -2.950      0.003      -0.625      -0.126\n",
      "==============================================================================\n",
      "OR\n",
      "Intercept    218.984972\n",
      "pclass         0.288734\n",
      "sex            0.071730\n",
      "age            0.956999\n",
      "fare           1.002162\n",
      "parch          0.939942\n",
      "sibsp          0.686771\n",
      "dtype: float64\n"
     ]
    }
   ],
   "source": [
    "import statsmodels.api as sm\n",
    "import numpy as np\n",
    "from sklearn.preprocessing import LabelEncoder\n",
    "encoder = LabelEncoder( )\n",
    "encoder.fit(titanic['sex'])\n",
    "sex = encoder.transform(titanic['sex'])\n",
    "titanic['sex'] = sex\n",
    "model = sm.Logit.from_formula('survived ~ pclass + sex + age + fare + parch + sibsp', data=titanic)\n",
    "logit = model.fit( )\n",
    "print(logit.summary( ))\n",
    "print(\"OR\")\n",
    "print(np.exp(logit.params))"
   ]
  },
  {
   "cell_type": "code",
   "execution_count": null,
   "id": "0d5cca43-9492-4f99-9c0e-aa79c1d64ba8",
   "metadata": {},
   "outputs": [],
   "source": []
  }
 ],
 "metadata": {
  "kernelspec": {
   "display_name": "Python 3 (ipykernel)",
   "language": "python",
   "name": "python3"
  },
  "language_info": {
   "codemirror_mode": {
    "name": "ipython",
    "version": 3
   },
   "file_extension": ".py",
   "mimetype": "text/x-python",
   "name": "python",
   "nbconvert_exporter": "python",
   "pygments_lexer": "ipython3",
   "version": "3.12.7"
  }
 },
 "nbformat": 4,
 "nbformat_minor": 5
}
